{
 "cells": [
  {
   "cell_type": "markdown",
   "metadata": {},
   "source": [
    "Download papers from NeurIPS accepted paper list."
   ]
  },
  {
   "cell_type": "code",
   "execution_count": null,
   "metadata": {},
   "outputs": [],
   "source": [
    "# CONFIGURE\n",
    "keyword = 'federated'"
   ]
  },
  {
   "cell_type": "code",
   "execution_count": 1,
   "metadata": {},
   "outputs": [],
   "source": [
    "import os\n",
    "from paper_fetcher import NeurIPSPaperSearch, Paper\n"
   ]
  },
  {
   "cell_type": "code",
   "execution_count": 116,
   "metadata": {},
   "outputs": [
    {
     "name": "stdout",
     "output_type": "stream",
     "text": [
      "Drop: NeurIPS | 2021 \n",
      "Drop:    Calls 2021\n",
      "found 2334 papers\n",
      "Search for papers with keyword: federated\n",
      " 32 papers with keyword: federated\n"
     ]
    }
   ],
   "source": [
    "search = NeurIPSPaperSearch()\n",
    "search.cache_all_titles()\n",
    "matched_papers = search.find(keyword, return_titles=False)\n"
   ]
  },
  {
   "cell_type": "code",
   "execution_count": 117,
   "metadata": {},
   "outputs": [
    {
     "name": "stdout",
     "output_type": "stream",
     "text": [
      "Search arxiv\n"
     ]
    },
    {
     "name": "stderr",
     "output_type": "stream",
     "text": [
      "ArXiv: 100%|██████████| 32/32 [00:17<00:00,  1.83it/s]"
     ]
    },
    {
     "name": "stdout",
     "output_type": "stream",
     "text": [
      "Found 28 out of 32 papers in arxiv\n"
     ]
    },
    {
     "name": "stderr",
     "output_type": "stream",
     "text": [
      "\n"
     ]
    }
   ],
   "source": [
    "from tqdm import tqdm\n",
    "# from time import sleep\n",
    "\n",
    "print(\"Search arxiv\")\n",
    "cnt_arxiv = 0\n",
    "for p in tqdm(matched_papers, desc='ArXiv'):\n",
    "    if p.has_arxiv:\n",
    "        r = True\n",
    "    else:\n",
    "        r = p.find_arxiv(verbose=False)\n",
    "    if r is not None:\n",
    "        cnt_arxiv += 1\n",
    "    # sleep(0.1)\n",
    "print(f\"Found {cnt_arxiv} out of {len(matched_papers)} papers in arxiv\")\n"
   ]
  },
  {
   "cell_type": "code",
   "execution_count": 118,
   "metadata": {},
   "outputs": [
    {
     "name": "stderr",
     "output_type": "stream",
     "text": [
      "download: 100%|██████████| 32/32 [01:11<00:00,  2.23s/it]\n"
     ]
    }
   ],
   "source": [
    "downalod_dir = f'~/Downloads/neurips2021/{keyword}'\n",
    "downalod_dir = os.path.expanduser(downalod_dir)\n",
    "if not os.path.exists(downalod_dir):\n",
    "    print(f\"create {downalod_dir}\")\n",
    "    os.makedirs(downalod_dir)\n",
    "for p in tqdm(matched_papers, desc='download'):\n",
    "    if not p.has_arxiv:\n",
    "        continue\n",
    "    p.download(to_dir=downalod_dir)\n"
   ]
  },
  {
   "cell_type": "code",
   "execution_count": null,
   "metadata": {},
   "outputs": [],
   "source": []
  }
 ],
 "metadata": {
  "interpreter": {
   "hash": "4532d15b31b4fb396ae6e236b2c680126a509316cb917a239b27b1eae3d32760"
  },
  "kernelspec": {
   "display_name": "Python 3.7.7 64-bit ('network': conda)",
   "name": "python3"
  },
  "language_info": {
   "codemirror_mode": {
    "name": "ipython",
    "version": 3
   },
   "file_extension": ".py",
   "mimetype": "text/x-python",
   "name": "python",
   "nbconvert_exporter": "python",
   "pygments_lexer": "ipython3",
   "version": "3.7.7"
  },
  "orig_nbformat": 4
 },
 "nbformat": 4,
 "nbformat_minor": 2
}
